{
  "nbformat": 4,
  "nbformat_minor": 0,
  "metadata": {
    "colab": {
      "name": "water_body_masking.ipynb",
      "provenance": [],
      "collapsed_sections": [],
      "toc_visible": true,
      "authorship_tag": "ABX9TyPy7mhNgwMTCIeOhGp6GZaF",
      "include_colab_link": true
    },
    "kernelspec": {
      "name": "python3",
      "display_name": "Python 3"
    },
    "language_info": {
      "name": "python"
    }
  },
  "cells": [
    {
      "cell_type": "markdown",
      "metadata": {
        "id": "view-in-github",
        "colab_type": "text"
      },
      "source": [
        "<a href=\"https://colab.research.google.com/github/Gittu-Thampi/water_body_mapping/blob/main/water_body_masking.ipynb\" target=\"_parent\"><img src=\"https://colab.research.google.com/assets/colab-badge.svg\" alt=\"Open In Colab\"/></a>"
      ]
    },
    {
      "cell_type": "code",
      "source": [
        "from google.colab import drive\n",
        "drive.mount('/content/drive')"
      ],
      "metadata": {
        "id": "Pemf4Y3jtrk3"
      },
      "execution_count": null,
      "outputs": []
    },
    {
      "cell_type": "code",
      "execution_count": null,
      "metadata": {
        "id": "pncwi1exs_Vl"
      },
      "outputs": [],
      "source": [
        "import numpy as np\n",
        "import cv2\n",
        "\n",
        "def calcNDWI(input_file,output_file):\n",
        "  _, R, NearIR = cv2.split(im)\n",
        "  NDWI = (NearIR - R) / (NearIR + R)\n",
        "  return NDWI\n",
        "\n",
        "\n",
        "import glob, os\n",
        "from rasterio.mask import mask\n",
        "import numpy\n",
        "from matplotlib import pyplot as plt\n",
        "img = “Input Image”\n",
        "label_ndwi ='-_b10_ndwi.jpg'\n",
        "\n",
        "ndwi = img[:-4] + '{}'.format(label_ndwi)\n",
        "ndwi_result = calcNDWI(img, ndwi)\n",
        "##ndwi_result.plt.savefig(\"/content/drive/MyDrive/L1C_T44RQT_A036295_20220604T050942\")\n",
        "if ndwi_result.all is not None:\n",
        "    print('NDWI finished')\n",
        "plt.imshow(ndwi_result)\n",
        "plt.axis('off')\n",
        "##show(ndwi_result)\n",
        "plt.savefig(\"Output Image\")"
      ]
    }
  ]
}